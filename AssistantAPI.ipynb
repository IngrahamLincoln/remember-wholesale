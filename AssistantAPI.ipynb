{
 "cells": [
  {
   "cell_type": "code",
   "execution_count": 28,
   "metadata": {},
   "outputs": [],
   "source": [
    "import sys\n",
    "import os\n",
    "from dotenv import load_dotenv\n",
    "from openai import OpenAI \n",
    "load_dotenv()\n",
    "client = OpenAI(\n",
    "   api_key = os.getenv('OPEN_API_KEY'),\n",
    " )\n",
    "\n",
    "\n"
   ]
  },
  {
   "cell_type": "code",
   "execution_count": 29,
   "metadata": {},
   "outputs": [],
   "source": [
    "assistant = client.beta.assistants.create(\n",
    "    name=\"Math Tutor\",\n",
    "    instructions=\"You are a personal math tutor. Write and run code to answer math questions.\",\n",
    "    tools=[{\"type\": \"code_interpreter\"},{\"type\": \"retrieval\"}],\n",
    "    model=\"gpt-4-1106-preview\"\n",
    ")"
   ]
  },
  {
   "cell_type": "code",
   "execution_count": 30,
   "metadata": {},
   "outputs": [
    {
     "name": "stdout",
     "output_type": "stream",
     "text": [
      "Assistant(id='asst_JXrRGwRTxCvzi9w2c5v72VXz', created_at=1699496026, description=None, file_ids=[], instructions='You are a personal math tutor. Write and run code to answer math questions.', metadata={}, model='gpt-4-1106-preview', name='Math Tutor', object='assistant', tools=[ToolCodeInterpreter(type='code_interpreter'), ToolRetrieval(type='retrieval')])\n"
     ]
    }
   ],
   "source": [
    "print(assistant)"
   ]
  },
  {
   "cell_type": "markdown",
   "metadata": {},
   "source": [
    "The assistant object. \n",
    "{\n",
    "  \"id\": \"asst_abc123\",\n",
    "  \"object\": \"assistant\",\n",
    "  \"created_at\": 1698984975,\n",
    "  \"name\": \"Math Tutor\",\n",
    "  \"description\": null,\n",
    "  \"model\": \"gpt-4\",\n",
    "  \"instructions\": \"You are a personal math tutor. When asked a question, write and run Python code to answer the question.\",\n",
    "  \"tools\": [\n",
    "    {\n",
    "      \"type\": \"code_interpreter\"\n",
    "    }\n",
    "  ],\n",
    "  \"file_ids\": [],\n",
    "  \"metadata\": {}\n",
    "}"
   ]
  },
  {
   "cell_type": "code",
   "execution_count": 31,
   "metadata": {},
   "outputs": [],
   "source": [
    "#Creates a thread\n",
    "thread = client.beta.threads.create()\n",
    "\n",
    "#Retrieve with my_thread = openai.beta.threads.retrieve(\"thread_abc123\")"
   ]
  },
  {
   "cell_type": "markdown",
   "metadata": {},
   "source": [
    "the thread object \n",
    "\n",
    "{\n",
    "  \"id\": \"thread_abc123\",\n",
    "  \"object\": \"thread\",\n",
    "  \"created_at\": 1698107661,\n",
    "  \"metadata\": {}\n",
    "}\n"
   ]
  },
  {
   "cell_type": "code",
   "execution_count": 32,
   "metadata": {},
   "outputs": [],
   "source": [
    "message = client.beta.threads.messages.create(\n",
    "    thread_id=thread.id,\n",
    "    role=\"user\",\n",
    "    content=\"I need to solve the equation `3x + 11 = 14`. Can you help me?\"\n",
    ")"
   ]
  },
  {
   "cell_type": "markdown",
   "metadata": {},
   "source": [
    "The message object \n",
    "{\n",
    "  \"id\": \"msg_abc123\",\n",
    "  \"object\": \"thread.message\",\n",
    "  \"created_at\": 1699017614,\n",
    "  \"thread_id\": \"thread_abc123\",\n",
    "  \"role\": \"user\",\n",
    "  \"content\": [\n",
    "    {\n",
    "      \"type\": \"text\",\n",
    "      \"text\": {\n",
    "        \"value\": \"How does AI work? Explain it in simple terms.\",\n",
    "        \"annotations\": []\n",
    "      }\n",
    "    }\n",
    "  ],\n",
    "  \"file_ids\": [],\n",
    "  \"assistant_id\": null,\n",
    "  \"run_id\": null,\n",
    "  \"metadata\": {}\n",
    "}\n"
   ]
  },
  {
   "cell_type": "code",
   "execution_count": 33,
   "metadata": {},
   "outputs": [],
   "source": [
    "run = client.beta.threads.runs.create(\n",
    "  thread_id=thread.id,\n",
    "  assistant_id=assistant.id,\n",
    "  instructions=\"Please address the user as Jane Doe. The user has a premium account.\"\n",
    ")\n",
    "\n",
    "#Retrieve with run = client.beta.threads.runs.retrieve(thread_id=thread.id, run_id=run.id)"
   ]
  },
  {
   "cell_type": "markdown",
   "metadata": {},
   "source": [
    "{\n",
    "  \"id\": \"run_example123\",\n",
    "  \"object\": \"thread.run\",\n",
    "  \"created_at\": 1698107661,\n",
    "  \"assistant_id\": \"asst_gZ1aOomboBuYWPcXJx4vAYB0\",\n",
    "  \"thread_id\": \"thread_adOpf7Jbb5Abymz0QbwxAh3c\",\n",
    "  \"status\": \"completed\",\n",
    "  \"started_at\": 1699073476,\n",
    "  \"expires_at\": null,\n",
    "  \"cancelled_at\": null,\n",
    "  \"failed_at\": null,\n",
    "  \"completed_at\": 1699073498,\n",
    "  \"last_error\": null,\n",
    "  \"model\": \"gpt-4\",\n",
    "  \"instructions\": null,\n",
    "  \"tools\": [{\"type\": \"retrieval\"}, {\"type\": \"code_interpreter\"}],\n",
    "  \"file_ids\": [],\n",
    "  \"metadata\": {}\n",
    "}\n"
   ]
  },
  {
   "cell_type": "code",
   "execution_count": null,
   "metadata": {},
   "outputs": [],
   "source": []
  },
  {
   "cell_type": "code",
   "execution_count": 39,
   "metadata": {},
   "outputs": [
    {
     "name": "stdout",
     "output_type": "stream",
     "text": [
      "waiting\n"
     ]
    }
   ],
   "source": [
    "if (run.status == 'queued'):\n",
    "    print (\"waiting\")"
   ]
  },
  {
   "cell_type": "code",
   "execution_count": 35,
   "metadata": {},
   "outputs": [
    {
     "data": {
      "text/plain": [
       "Thread(id='thread_9iC3pUNCJDduYVsDKZCQx9Qi', created_at=1699496033, metadata={}, object='thread')"
      ]
     },
     "execution_count": 35,
     "metadata": {},
     "output_type": "execute_result"
    }
   ],
   "source": [
    "client.beta.threads.retrieve(thread.id)"
   ]
  },
  {
   "cell_type": "code",
   "execution_count": null,
   "metadata": {},
   "outputs": [],
   "source": []
  }
 ],
 "metadata": {
  "kernelspec": {
   "display_name": "openai-env",
   "language": "python",
   "name": "python3"
  },
  "language_info": {
   "codemirror_mode": {
    "name": "ipython",
    "version": 3
   },
   "file_extension": ".py",
   "mimetype": "text/x-python",
   "name": "python",
   "nbconvert_exporter": "python",
   "pygments_lexer": "ipython3",
   "version": "3.11.2"
  },
  "orig_nbformat": 4
 },
 "nbformat": 4,
 "nbformat_minor": 2
}
